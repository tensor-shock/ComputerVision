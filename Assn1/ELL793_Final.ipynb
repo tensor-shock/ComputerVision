{
  "cells": [
    {
      "cell_type": "code",
      "execution_count": 206,
      "metadata": {
        "id": "BsDMi-gBf4_5"
      },
      "outputs": [],
      "source": [
        "import numpy as np\n",
        "from numpy import linalg as LA\n",
        "from numpy.linalg import inv\n",
        "from scipy.linalg import rq\n",
        "import math"
      ]
    },
    {
      "cell_type": "markdown",
      "source": [
        "# INPUT DATA"
      ],
      "metadata": {
        "id": "mNLbNJm6Vk5M"
      }
    },
    {
      "cell_type": "code",
      "execution_count": 207,
      "metadata": {
        "id": "P3yLiYIRf4_8"
      },
      "outputs": [],
      "source": [
        "# 3D points on checkerboard grid\n",
        "X = np.array([\n",
        "    [2,2,0],\n",
        "    [3,5,0],\n",
        "    [5,5,2],\n",
        "    [5,2,3],\n",
        "    [5,6,3],\n",
        "    [5,4,1]\n",
        "]\n",
        ")\n"
      ]
    },
    {
      "cell_type": "code",
      "execution_count": 208,
      "metadata": {
        "id": "Zbmgc2W3f4_8"
      },
      "outputs": [],
      "source": [
        "# 2D points on image taken\n",
        "x = np.array([\n",
        "    [356, 836],\n",
        "    [581, 886],\n",
        "    [682, 700],\n",
        "    [528, 532],\n",
        "    [789, 694],\n",
        "    [580, 705]\n",
        "]\n",
        ")"
      ]
    },
    {
      "cell_type": "markdown",
      "source": [
        "# ESTIMATING AND DECOMPOSITION OF PROJECTION MATRIX"
      ],
      "metadata": {
        "id": "wb60klQeV27Z"
      }
    },
    {
      "cell_type": "code",
      "execution_count": 209,
      "metadata": {
        "id": "8b7mgnqvf4_8"
      },
      "outputs": [],
      "source": [
        "# Finds centroid of input and avg distance of points from centroid\n",
        "def normalizing_params(pts):\n",
        "    centroid=np.mean(pts,axis=0)\n",
        "    avg_distance=np.mean(LA.norm(pts-centroid, axis=1))\n",
        "    return centroid,avg_distance\n"
      ]
    },
    {
      "cell_type": "code",
      "execution_count": 210,
      "metadata": {
        "id": "-5rk_sdZf4_9"
      },
      "outputs": [],
      "source": [
        "# Obtaining the T,U normalizing matrices\n",
        "def normalizing_matrix(pts):\n",
        "    c,d=normalizing_params(pts)\n",
        "    n=pts.shape[1]\n",
        "    if n==2:\n",
        "        d=d/math.sqrt(2)\n",
        "        mat=np.array([[1/d,0,-c[0]/d],[0,1/d,-c[1]/d],[0,0,1]])\n",
        "    else:\n",
        "        d=d/math.sqrt(3)\n",
        "        mat=np.array([[1/d,0,0,-c[0]/d],[0,1/d,0,-c[1]/d],[0,0,1/d,-c[2]/d],[0,0,0,1]])\n",
        "    return mat"
      ]
    },
    {
      "cell_type": "code",
      "execution_count": 211,
      "metadata": {
        "id": "YoqyCE0Cf4_9"
      },
      "outputs": [],
      "source": [
        "# Homogenizing the input coordinates\n",
        "def homo_coord(pts):\n",
        "    rows=pts.shape[0]\n",
        "    pts=np.append(pts, np.ones((rows, 1)), axis=1)\n",
        "    return pts"
      ]
    },
    {
      "cell_type": "code",
      "execution_count": 212,
      "metadata": {
        "id": "iFZu4rVpf4_9"
      },
      "outputs": [],
      "source": [
        "# Using fiducial points to obtain the equations needed to solve for P\n",
        "def Fiducial_matrix(X_pts,x_pts):\n",
        "    rows=X_pts.shape[0]\n",
        "    X_pts_homo=homo_coord(X_pts)\n",
        "    x_pts_homo=homo_coord(x_pts)\n",
        "\n",
        "    T=normalizing_matrix(x_pts)\n",
        "    U=normalizing_matrix(X_pts)\n",
        "    x_pts_homo=(np.dot(T,x_pts_homo.T)).T\n",
        "    X_pts_homo=(np.dot(U,X_pts_homo.T)).T\n",
        "\n",
        "    \n",
        "    zerocol=np.zeros((rows,4))\n",
        "    multx=(-X_pts_homo.T*x_pts_homo[:,0]).T\n",
        "    multy=(-X_pts_homo.T*x_pts_homo[:,1]).T\n",
        "\n",
        "    P=np.append(X_pts_homo,zerocol,axis=1)\n",
        "    P=np.append(P,multx,axis=1)\n",
        "    P=np.append(P,zerocol,axis=1)\n",
        "    P=np.append(P,X_pts_homo,axis=1)\n",
        "    P=np.append(P,multy,axis=1)\n",
        "    \n",
        "    P=np.reshape(P,(2*rows,12))\n",
        "    return P"
      ]
    },
    {
      "cell_type": "code",
      "execution_count": 213,
      "metadata": {
        "id": "hbWhrLyJf4_-"
      },
      "outputs": [],
      "source": [
        "#Denormalizing function for P using T and U\n",
        "def denormalize(X_pts,x_pts,P):\n",
        "    T=normalizing_matrix(x_pts)\n",
        "    U=normalizing_matrix(X_pts)\n",
        "    P=np.dot(inv(T),P)\n",
        "    P=np.dot(P,U)\n",
        "    return P"
      ]
    },
    {
      "cell_type": "code",
      "execution_count": 214,
      "metadata": {
        "id": "WtjbBctnf4_-"
      },
      "outputs": [],
      "source": [
        "#Estimating P using svd decomposition and using vector corresponding to least eigenvalue\n",
        "def P_estimate(X_pts,x_pts):\n",
        "    P=Fiducial_matrix(X_pts,x_pts)\n",
        "    u, s, vh = np.linalg.svd(P)\n",
        "    least_val_vector=vh[-1]\n",
        "    P=np.reshape(least_val_vector,(3,4))\n",
        "    P=denormalize(X_pts,x_pts,P)\n",
        "    return P"
      ]
    },
    {
      "cell_type": "code",
      "execution_count": 215,
      "metadata": {
        "id": "iRMds-nCf4__"
      },
      "outputs": [],
      "source": [
        "# RQ decomposition of P to get K,R,X_0\n",
        "def P_decomposition(P):\n",
        "    KR=P[:,0:3]\n",
        "    K, R = rq(KR)\n",
        "    K=K/K[2][2]\n",
        "    KRX=P[:,-1]\n",
        "    X_0 = np.dot(-np.linalg.inv(KR),KRX)\n",
        "    \n",
        "    return K,R,X_0"
      ]
    },
    {
      "cell_type": "code",
      "execution_count": 216,
      "metadata": {
        "colab": {
          "base_uri": "https://localhost:8080/"
        },
        "id": "inDmYvyxf4__",
        "outputId": "87a4636c-f802-4532-f7df-8507427fbba3"
      },
      "outputs": [
        {
          "output_type": "stream",
          "name": "stdout",
          "text": [
            "[[ 0.00898989  0.         -5.2680775 ]\n",
            " [ 0.          0.00898989 -6.52216762]\n",
            " [ 0.          0.          1.        ]]\n"
          ]
        }
      ],
      "source": [
        "print(normalizing_matrix(x))#T"
      ]
    },
    {
      "cell_type": "code",
      "source": [
        "print(normalizing_matrix(X))#U"
      ],
      "metadata": {
        "colab": {
          "base_uri": "https://localhost:8080/"
        },
        "id": "gjJiyIVFgVIN",
        "outputId": "90fd516e-86bb-4adb-d036-33f4c9c56bcb"
      },
      "execution_count": 217,
      "outputs": [
        {
          "output_type": "stream",
          "name": "stdout",
          "text": [
            "[[ 0.79377167  0.          0.         -3.30738195]\n",
            " [ 0.          0.79377167  0.         -3.17508667]\n",
            " [ 0.          0.          0.79377167 -1.1906575 ]\n",
            " [ 0.          0.          0.          1.        ]]\n"
          ]
        }
      ]
    },
    {
      "cell_type": "code",
      "execution_count": 218,
      "metadata": {
        "colab": {
          "base_uri": "https://localhost:8080/"
        },
        "id": "lKpr9r35f4__",
        "outputId": "4983a3d3-7e62-465a-cd14-0216c54c3427"
      },
      "outputs": [
        {
          "output_type": "stream",
          "name": "stdout",
          "text": [
            "[[ 2.54931107e+01  4.65679364e+01  1.05416476e+01  6.12003320e+01]\n",
            " [-9.99007970e+00  3.09516343e+01 -4.54633454e+01  4.40238385e+02]\n",
            " [ 3.11929016e-02  9.92867262e-03 -2.55718540e-02  4.94505055e-01]]\n"
          ]
        }
      ],
      "source": [
        "P=P_estimate(X,x)\n",
        "print(P)"
      ]
    },
    {
      "cell_type": "markdown",
      "source": [
        "# SOME TESTING DATA"
      ],
      "metadata": {
        "id": "98FX-unYYNNh"
      }
    },
    {
      "cell_type": "code",
      "execution_count": 219,
      "metadata": {
        "id": "Hpf0M68xf5AA"
      },
      "outputs": [],
      "source": [
        "# 3D points for testing\n",
        "X_test = np.array([\n",
        "    [0, 0, 0],\n",
        "    [3, 3, 0],\n",
        "    [5, 4, 0],\n",
        "    [5, 3, 2],\n",
        "    [2, 6, 0],\n",
        "    [4, 4, 0]\n",
        "])"
      ]
    },
    {
      "cell_type": "code",
      "execution_count": 220,
      "metadata": {
        "id": "WOqWE5v1f5AA"
      },
      "outputs": [],
      "source": [
        "#2D points on image for testing\n",
        "x_actual = np.array([\n",
        "    [124, 887],\n",
        "    [450, 815],\n",
        "    [542, 750],\n",
        "    [556, 624],\n",
        "    [632, 980],\n",
        "    [530, 798]\n",
        "])"
      ]
    },
    {
      "cell_type": "markdown",
      "source": [
        "# USING PROJECTION MATRIX TO FIND PROJECTIONS OF ACTUAL 3D POINTS ON IMAGE"
      ],
      "metadata": {
        "id": "-K70gYxDZOXH"
      }
    },
    {
      "cell_type": "code",
      "execution_count": 221,
      "metadata": {
        "id": "O7aswSTYf5AA"
      },
      "outputs": [],
      "source": [
        "# return projected points\n",
        "def test_pred(P, X_test):\n",
        "  rows=X_test.shape[0]\n",
        "  X_test = np.append(X_test, np.ones((rows,1)), axis=1)\n",
        "  x_test = np.dot(P,X_test.T)\n",
        "  x_test = x_test/x_test[2]\n",
        "  x_test = x_test[0:2].T\n",
        "  return x_test"
      ]
    },
    {
      "cell_type": "code",
      "execution_count": 222,
      "metadata": {
        "id": "PlockWO5f5AB"
      },
      "outputs": [],
      "source": [
        "# calculate the root mean square error\n",
        "def rms_error(x_predict, x_actual):\n",
        "    return np.sqrt(np.mean((x_predict-x_actual)**2))"
      ]
    },
    {
      "cell_type": "code",
      "execution_count": 223,
      "metadata": {
        "id": "X2M13RPQf5AC"
      },
      "outputs": [],
      "source": [
        "#get all the intrinsic and extrinsic parameters from K,R,X_0\n",
        "def params1(P):\n",
        "    K,R,X0=P_decomposition(P)\n",
        "    alpha=K[0][0]\n",
        "    theta=np.arctan(-alpha/K[0][1])\n",
        "    theta_degree=theta*180/np.pi\n",
        "    beta=K[1][1]*np.sin(theta)\n",
        "    x0=K[0][2]\n",
        "    y0=K[1][2]\n",
        "    skew=K[0][1]\n",
        "    t=-np.dot(R,X0)\n",
        "    return alpha,beta,theta_degree,x0,y0,skew,R,X0,K,t"
      ]
    },
    {
      "cell_type": "code",
      "execution_count": 224,
      "metadata": {
        "id": "aefSAdONf5AC"
      },
      "outputs": [],
      "source": [
        "alpha,beta,theta_degree,x0,y0,skew,R,X0,K,t=params1(P)"
      ]
    },
    {
      "cell_type": "code",
      "source": [
        "print(alpha,beta,theta_degree,x0,y0,skew,R,X0,K,t)"
      ],
      "metadata": {
        "colab": {
          "base_uri": "https://localhost:8080/"
        },
        "id": "VbDcIHHygkFQ",
        "outputId": "f21cfd57-9539-456b-f62a-30ea3683a543"
      },
      "execution_count": 225,
      "outputs": [
        {
          "output_type": "stream",
          "name": "stdout",
          "text": [
            "1170.2538403507795 -1166.1181878125326 88.92461280578931 572.5847972337257 671.2687401675427 -21.967129217040767 [[ 0.16899496  0.83160753  0.52902704]\n",
            " [ 0.63839356 -0.50129665  0.58408503]\n",
            " [ 0.750929    0.23902003 -0.61560951]] [-6.73385558 -0.13416143 11.07172423] [[ 1.17025384e+03 -2.19671292e+01  5.72584797e+02]\n",
            " [ 0.00000000e+00 -1.16632362e+03  6.71268740e+02]\n",
            " [ 0.00000000e+00  0.00000000e+00  1.00000000e+00]] [-4.60768416 -2.23523305 11.90457339]\n"
          ]
        }
      ]
    },
    {
      "cell_type": "markdown",
      "source": [
        "# INCORPORATING RADIAL DISTORTION"
      ],
      "metadata": {
        "id": "TF1VhKCxZ62U"
      }
    },
    {
      "cell_type": "code",
      "source": [
        "def test_pred2(P,X_test):\n",
        "    rows=X_test.shape[0]\n",
        "    X_test = np.append(X_test, np.ones((rows,1)), axis=1)\n",
        "    x_test = np.dot(P,X_test.T)\n",
        "    x_test = x_test/x_test[2]\n",
        "    return x_test"
      ],
      "metadata": {
        "id": "rIlRWiMwoYHv"
      },
      "execution_count": 226,
      "outputs": []
    },
    {
      "cell_type": "code",
      "source": [
        "arr=test_pred2(P,X)"
      ],
      "metadata": {
        "id": "TRrPxc6AoZAa"
      },
      "execution_count": 227,
      "outputs": []
    },
    {
      "cell_type": "code",
      "execution_count": 228,
      "metadata": {
        "id": "CBOluP_wf5AE"
      },
      "outputs": [],
      "source": [
        "#returns the radial distortion parameters\n",
        "def get_param_val(P,rad_dist_params,K_inv):\n",
        "    poly_val=np.zeros(rad_dist_params)\n",
        "    distance_power_matrix=np.zeros((rad_dist_params,rad_dist_params))\n",
        "    for i in range(rad_dist_params):\n",
        "        x_one_pred=arr[:,i]\n",
        "        x_one_actual=x.T[:,i]\n",
        "        d2=LA.norm(np.dot(K_inv,x_one_pred))-1\n",
        "        \n",
        "        for j in range(rad_dist_params):\n",
        "            distance_power_matrix[j][i]=np.power(d2,j+1)\n",
        "        ratio_x_one=x_one_pred[:-1]/x_one_actual\n",
        "        meanval=np.mean(ratio_x_one)\n",
        "        polyval=meanval-1\n",
        "        poly_val[i]=polyval\n",
        "    dist_inv=inv(distance_power_matrix)\n",
        "    param_val=np.dot(poly_val,dist_inv)\n",
        "    return param_val"
      ]
    },
    {
      "cell_type": "code",
      "execution_count": 229,
      "metadata": {
        "id": "qs7cgilof5AE"
      },
      "outputs": [],
      "source": [
        "#predicting projections after considering distortion parameters\n",
        "def rad_test_pred(P,X_test,rad_dist_params):\n",
        "\n",
        "    # rad_dist_params=3   #<=6\n",
        "    \n",
        "    K,R,X0=P_decomposition(P)\n",
        "    K_inv=inv(K)\n",
        "    param_val=get_param_val(P,rad_dist_params,K_inv)\n",
        "    # print(param_val)\n",
        "\n",
        "\n",
        "    rows=X_test.shape[0]\n",
        "    X_test = np.append(X_test, np.ones((rows,1)), axis=1)\n",
        "    x_test = np.dot(P,X_test.T)\n",
        "    x_test = x_test/x_test[2]\n",
        "\n",
        "    K_inv=inv(K)\n",
        "    cols=x_test.shape[1]\n",
        "    for i in range(cols):\n",
        "        d2=LA.norm(np.dot(K_inv,x_test[:,i]))-1\n",
        "        mult=1\n",
        "        lamb=1\n",
        "        for j in range(rad_dist_params):\n",
        "            mult*=d2\n",
        "            lamb+=mult*param_val[j]\n",
        "        x_test[0][i]/=lamb\n",
        "        x_test[1][i]/=lamb\n",
        "    return x_test[:2,:].T"
      ]
    },
    {
      "cell_type": "markdown",
      "source": [
        "# FINAL COMPUTED RESULTS"
      ],
      "metadata": {
        "id": "7VIix255aWxm"
      }
    },
    {
      "cell_type": "code",
      "execution_count": 230,
      "metadata": {
        "id": "1lZmzowgf5AE"
      },
      "outputs": [],
      "source": [
        "# for i in range(1,7):\n",
        "#     print(i,rms_error(x,rad_test_pred(P,X,i)))"
      ]
    },
    {
      "cell_type": "code",
      "source": [
        "rms_error(x,test_pred(P,X)) #calibrate points without distortion"
      ],
      "metadata": {
        "colab": {
          "base_uri": "https://localhost:8080/"
        },
        "id": "yZSXwWltrdnM",
        "outputId": "c22033b8-fdb0-46d2-a5b0-a9341a448ab5"
      },
      "execution_count": 231,
      "outputs": [
        {
          "output_type": "execute_result",
          "data": {
            "text/plain": [
              "0.08674345300132424"
            ]
          },
          "metadata": {},
          "execution_count": 231
        }
      ]
    },
    {
      "cell_type": "code",
      "source": [
        "rms_error(x,rad_test_pred(P,X,2)) #calibrate points with distortion"
      ],
      "metadata": {
        "colab": {
          "base_uri": "https://localhost:8080/"
        },
        "id": "28rjDLBZrjpJ",
        "outputId": "23f3a43c-2bf5-46a7-d9a0-50f028e2bd78"
      },
      "execution_count": 232,
      "outputs": [
        {
          "output_type": "execute_result",
          "data": {
            "text/plain": [
              "0.08673750582657837"
            ]
          },
          "metadata": {},
          "execution_count": 232
        }
      ]
    },
    {
      "cell_type": "code",
      "execution_count": 233,
      "metadata": {
        "colab": {
          "base_uri": "https://localhost:8080/"
        },
        "id": "mvjZKbStf5AF",
        "outputId": "96faeda4-f2b2-4f21-b41d-921826ec0aec"
      },
      "outputs": [
        {
          "output_type": "execute_result",
          "data": {
            "text/plain": [
              "2.372674321237422"
            ]
          },
          "metadata": {},
          "execution_count": 233
        }
      ],
      "source": [
        "rms_error(x_actual,test_pred(P,X_test)) #test points without distortion"
      ]
    },
    {
      "cell_type": "code",
      "execution_count": 234,
      "metadata": {
        "colab": {
          "base_uri": "https://localhost:8080/"
        },
        "id": "pI8RBkv_f5AF",
        "outputId": "39028b1f-208f-403a-d0f7-3bc027d9a35a"
      },
      "outputs": [
        {
          "output_type": "execute_result",
          "data": {
            "text/plain": [
              "2.371977217568816"
            ]
          },
          "metadata": {},
          "execution_count": 234
        }
      ],
      "source": [
        "rms_error(x_actual,rad_test_pred(P,X_test,2)) #test points with distortion"
      ]
    },
    {
      "cell_type": "code",
      "execution_count": 235,
      "metadata": {
        "id": "pU488gPAf5AG"
      },
      "outputs": [],
      "source": [
        "# for i in range(1,7):\n",
        "#     print(i,rms_error(x_actual,rad_test_pred(P,X_test,i)))"
      ]
    },
    {
      "cell_type": "markdown",
      "source": [
        "# ALL POINTS"
      ],
      "metadata": {
        "id": "E0bShzXnn3pk"
      }
    },
    {
      "cell_type": "code",
      "source": [
        "X_final = np.array([\n",
        "    [0, 0, 0],\n",
        "    [3, 3, 0],\n",
        "    [5, 4, 0],\n",
        "    [5, 3, 2],\n",
        "    [2, 6, 0],\n",
        "    [4, 4, 0],\n",
        "    [2, 2, 0],\n",
        "    [3, 5, 0],\n",
        "    [5, 5, 2],\n",
        "    [5, 2, 3],\n",
        "    [5, 6, 3],\n",
        "    [5, 4, 1]\n",
        "]\n",
        ")"
      ],
      "metadata": {
        "id": "BL1-w29xleEU"
      },
      "execution_count": 236,
      "outputs": []
    },
    {
      "cell_type": "code",
      "source": [
        "arryy = rad_test_pred(P,X_final, 2)"
      ],
      "metadata": {
        "id": "j49cA21KmPLo"
      },
      "execution_count": 237,
      "outputs": []
    },
    {
      "cell_type": "code",
      "source": [
        "arryy - np.array([0, 1600])"
      ],
      "metadata": {
        "colab": {
          "base_uri": "https://localhost:8080/"
        },
        "id": "WfZME4R_n7jS",
        "outputId": "9bf807bb-4a94-418c-dba8-7aabdc78f04b"
      },
      "execution_count": 238,
      "outputs": [
        {
          "output_type": "execute_result",
          "data": {
            "text/plain": [
              "array([[  123.76005828,  -709.74456479],\n",
              "       [  448.93521665,  -785.71336563],\n",
              "       [  543.24283014,  -855.13434547],\n",
              "       [  555.47035616,  -976.55570889],\n",
              "       [  635.22714678,  -617.02484065],\n",
              "       [  530.27183432,  -804.71695012],\n",
              "       [  356.00005845,  -764.00013725],\n",
              "       [  580.99986757,  -713.99979805],\n",
              "       [  681.98750203,  -900.2449291 ],\n",
              "       [  527.99990292, -1067.99997447],\n",
              "       [  789.00669399,  -905.87444397],\n",
              "       [  580.00615417,  -894.88047099]])"
            ]
          },
          "metadata": {},
          "execution_count": 238
        }
      ]
    },
    {
      "cell_type": "code",
      "source": [],
      "metadata": {
        "id": "qp5bfU-ZvbQ0"
      },
      "execution_count": 238,
      "outputs": []
    }
  ],
  "metadata": {
    "kernelspec": {
      "display_name": "base",
      "language": "python",
      "name": "python3"
    },
    "language_info": {
      "codemirror_mode": {
        "name": "ipython",
        "version": 3
      },
      "file_extension": ".py",
      "mimetype": "text/x-python",
      "name": "python",
      "nbconvert_exporter": "python",
      "pygments_lexer": "ipython3",
      "version": "3.8.8"
    },
    "orig_nbformat": 4,
    "vscode": {
      "interpreter": {
        "hash": "0a9832322fafd2730dc149af687337c0a09b45fcc0b3b65c4fba6625a2f98152"
      }
    },
    "colab": {
      "provenance": []
    }
  },
  "nbformat": 4,
  "nbformat_minor": 0
}