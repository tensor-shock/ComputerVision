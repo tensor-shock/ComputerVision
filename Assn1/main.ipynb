{
 "cells": [
  {
   "cell_type": "code",
   "execution_count": 41,
   "metadata": {},
   "outputs": [],
   "source": [
    "import numpy as np\n",
    "from numpy import linalg as LA\n",
    "import math"
   ]
  },
  {
   "cell_type": "code",
   "execution_count": 42,
   "metadata": {},
   "outputs": [],
   "source": [
    "x=np.array([[0,1],[2,3]])"
   ]
  },
  {
   "cell_type": "code",
   "execution_count": 43,
   "metadata": {},
   "outputs": [],
   "source": [
    "X = np.array([[0, 2, 2], [0, 2, 1], [0, 2, 0],[1, 2, 0],[2, 2, 0],[0, 1, 2],[0, 1, 1],[0, 1, 0],[1, 1, 0],[2, 1, 0], [0, 0, 2],[0, 0, 1],[0, 0, 0],[1, 0, 0],[2, 0, 0]])"
   ]
  },
  {
   "cell_type": "code",
   "execution_count": 44,
   "metadata": {},
   "outputs": [],
   "source": [
    "def normalizing_params(pts):\n",
    "    centroid=np.mean(pts,axis=0)\n",
    "    avg_distance=np.mean(LA.norm(pts-centroid, axis=1))\n",
    "    return centroid,avg_distance\n"
   ]
  },
  {
   "cell_type": "code",
   "execution_count": 45,
   "metadata": {},
   "outputs": [],
   "source": [
    "def normalizing_matrix(pts):\n",
    "    c,d=normalizing_params(pts)\n",
    "    n=pts.shape[1]\n",
    "    d=d/math.sqrt(2)\n",
    "    if n==2:\n",
    "        mat=np.array([[1/d,0,-c[0]/d],[0,1/d,-c[1]/d],[0,0,1]])\n",
    "    else:\n",
    "        mat=np.array([[1/d,0,0,-c[0]/d],[0,1/d,0,-c[1]/d],[0,0,1/d,-c[2]/d],[0,0,0,1]])\n",
    "    return mat"
   ]
  },
  {
   "cell_type": "code",
   "execution_count": 48,
   "metadata": {},
   "outputs": [],
   "source": [
    "def homo_coord(pts):\n",
    "    rows=pts.shape[0]\n",
    "    pts=np.append(pts, np.ones((rows, 1)), axis=1)\n",
    "    return pts"
   ]
  },
  {
   "cell_type": "code",
   "execution_count": 65,
   "metadata": {},
   "outputs": [
    {
     "name": "stdout",
     "output_type": "stream",
     "text": [
      "[[0. 0. 0. 0.]\n",
      " [0. 0. 0. 0.]]\n"
     ]
    }
   ],
   "source": [
    "# zerocol=np.zeros((X.shape[0],4))\n",
    "# print(zerocol)"
   ]
  },
  {
   "cell_type": "code",
   "execution_count": 117,
   "metadata": {},
   "outputs": [],
   "source": [
    "def Fiducial_matrix(X_pts,x_pts):\n",
    "    rows=X_pts.shape[0]\n",
    "\n",
    "    X_pts=homo_coord(X_pts)\n",
    "    zerocol=np.zeros((rows,4))\n",
    "    multx=(-X_pts.T*x_pts[:,0]).T\n",
    "    multy=(-X_pts.T*x_pts[:,1]).T\n",
    "\n",
    "    P=np.append(X_pts,zerocol,axis=1)\n",
    "    P=np.append(P,multx,axis=1)\n",
    "    P=np.append(P,zerocol,axis=1)\n",
    "    P=np.append(P,X_pts,axis=1)\n",
    "    P=np.append(P,multy,axis=1)\n",
    "    \n",
    "    P=np.reshape(P,(2*rows,12))\n",
    "    return P"
   ]
  },
  {
   "cell_type": "code",
   "execution_count": 140,
   "metadata": {},
   "outputs": [],
   "source": [
    "def P_estimate(X_pts,x_pts):\n",
    "    P=Fiducial_matrix(X_pts,x_pts)\n",
    "    u, s, vh = np.linalg.svd(P)\n",
    "    # print(u)\n",
    "    print(s)\n",
    "    # print(vh)"
   ]
  },
  {
   "cell_type": "code",
   "execution_count": 141,
   "metadata": {},
   "outputs": [],
   "source": [
    "X=np.array([[0,1,1],[1,2,3]])"
   ]
  },
  {
   "cell_type": "code",
   "execution_count": 142,
   "metadata": {},
   "outputs": [
    {
     "name": "stdout",
     "output_type": "stream",
     "text": [
      "[14.61062038  4.18464506  1.51777664  0.84550106]\n"
     ]
    }
   ],
   "source": [
    "P_estimate(X,x)"
   ]
  },
  {
   "cell_type": "code",
   "execution_count": 136,
   "metadata": {},
   "outputs": [
    {
     "data": {
      "text/plain": [
       "array([[ 0.,  1.,  1.,  1.,  0.,  0.,  0.,  0., -0., -0., -0., -0.],\n",
       "       [ 0.,  0.,  0.,  0.,  0.,  1.,  1.,  1., -0., -1., -1., -1.],\n",
       "       [ 1.,  2.,  3.,  1.,  0.,  0.,  0.,  0., -2., -4., -6., -2.],\n",
       "       [ 0.,  0.,  0.,  0.,  1.,  2.,  3.,  1., -3., -6., -9., -3.]])"
      ]
     },
     "execution_count": 136,
     "metadata": {},
     "output_type": "execute_result"
    }
   ],
   "source": [
    "Fiducial_matrix(X,x)"
   ]
  },
  {
   "cell_type": "code",
   "execution_count": 46,
   "metadata": {},
   "outputs": [
    {
     "data": {
      "text/plain": [
       "(array([0.6, 1. , 0.6]), 1.3453274243577624)"
      ]
     },
     "execution_count": 46,
     "metadata": {},
     "output_type": "execute_result"
    }
   ],
   "source": [
    "normalizing_params(X)"
   ]
  },
  {
   "cell_type": "code",
   "execution_count": 47,
   "metadata": {},
   "outputs": [
    {
     "data": {
      "text/plain": [
       "array([[ 1.05120399,  0.        ,  0.        , -0.6307224 ],\n",
       "       [ 0.        ,  1.05120399,  0.        , -1.05120399],\n",
       "       [ 0.        ,  0.        ,  1.05120399, -0.6307224 ],\n",
       "       [ 0.        ,  0.        ,  0.        ,  1.        ]])"
      ]
     },
     "execution_count": 47,
     "metadata": {},
     "output_type": "execute_result"
    }
   ],
   "source": [
    "normalizing_matrix(X)"
   ]
  },
  {
   "cell_type": "code",
   "execution_count": 50,
   "metadata": {},
   "outputs": [
    {
     "data": {
      "text/plain": [
       "array([[0., 2., 2., 1.],\n",
       "       [0., 2., 1., 1.],\n",
       "       [0., 2., 0., 1.],\n",
       "       [1., 2., 0., 1.],\n",
       "       [2., 2., 0., 1.],\n",
       "       [0., 1., 2., 1.],\n",
       "       [0., 1., 1., 1.],\n",
       "       [0., 1., 0., 1.],\n",
       "       [1., 1., 0., 1.],\n",
       "       [2., 1., 0., 1.],\n",
       "       [0., 0., 2., 1.],\n",
       "       [0., 0., 1., 1.],\n",
       "       [0., 0., 0., 1.],\n",
       "       [1., 0., 0., 1.],\n",
       "       [2., 0., 0., 1.]])"
      ]
     },
     "execution_count": 50,
     "metadata": {},
     "output_type": "execute_result"
    }
   ],
   "source": [
    "homo_coord(X)"
   ]
  },
  {
   "cell_type": "code",
   "execution_count": null,
   "metadata": {},
   "outputs": [],
   "source": []
  }
 ],
 "metadata": {
  "kernelspec": {
   "display_name": "base",
   "language": "python",
   "name": "python3"
  },
  "language_info": {
   "codemirror_mode": {
    "name": "ipython",
    "version": 3
   },
   "file_extension": ".py",
   "mimetype": "text/x-python",
   "name": "python",
   "nbconvert_exporter": "python",
   "pygments_lexer": "ipython3",
   "version": "3.8.8"
  },
  "orig_nbformat": 4,
  "vscode": {
   "interpreter": {
    "hash": "0a9832322fafd2730dc149af687337c0a09b45fcc0b3b65c4fba6625a2f98152"
   }
  }
 },
 "nbformat": 4,
 "nbformat_minor": 2
}
