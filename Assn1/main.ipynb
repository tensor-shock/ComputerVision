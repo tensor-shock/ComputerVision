{
 "cells": [
  {
   "cell_type": "code",
   "execution_count": 273,
   "metadata": {},
   "outputs": [],
   "source": [
    "import numpy as np\n",
    "from numpy import linalg as LA\n",
    "from numpy.linalg import inv\n",
    "from scipy.linalg import rq\n",
    "import math"
   ]
  },
  {
   "cell_type": "code",
   "execution_count": 274,
   "metadata": {},
   "outputs": [],
   "source": [
    "# x=np.array([[0,1],[2,3]])\n",
    "# X=np.array([[0,1,1],[1,2,3]])"
   ]
  },
  {
   "cell_type": "code",
   "execution_count": 275,
   "metadata": {},
   "outputs": [],
   "source": [
    "X = np.array([\n",
    "    [4.74, 4.74, 0],\n",
    "    [7.11, 7.11, 0],\n",
    "    [7.11, 11.85, 0],\n",
    "    [11.85, 11.85, 4.74],\n",
    "    [11.85, 7.11, 4.74],\n",
    "    [11.85, 4.74, 7.11]\n",
    "]\n",
    ")"
   ]
  },
  {
   "cell_type": "code",
   "execution_count": 276,
   "metadata": {},
   "outputs": [],
   "source": [
    "x = np.array([\n",
    "    [356, 836],\n",
    "    [450, 815],\n",
    "    [581, 886],\n",
    "    [682, 700],\n",
    "    [556, 804],\n",
    "    [528, 532]\n",
    "]\n",
    ")"
   ]
  },
  {
   "cell_type": "code",
   "execution_count": 277,
   "metadata": {},
   "outputs": [],
   "source": [
    "def normalizing_params(pts):\n",
    "    centroid=np.mean(pts,axis=0)\n",
    "    avg_distance=np.mean(LA.norm(pts-centroid, axis=1))\n",
    "    return centroid,avg_distance\n"
   ]
  },
  {
   "cell_type": "code",
   "execution_count": 278,
   "metadata": {},
   "outputs": [],
   "source": [
    "def normalizing_matrix(pts):\n",
    "    c,d=normalizing_params(pts)\n",
    "    n=pts.shape[1]\n",
    "    if n==2:\n",
    "        d=d/math.sqrt(2)\n",
    "        mat=np.array([[1/d,0,-c[0]/d],[0,1/d,-c[1]/d],[0,0,1]])\n",
    "    else:\n",
    "        d=d/math.sqrt(3)\n",
    "        mat=np.array([[1/d,0,0,-c[0]/d],[0,1/d,0,-c[1]/d],[0,0,1/d,-c[2]/d],[0,0,0,1]])\n",
    "    return mat"
   ]
  },
  {
   "cell_type": "code",
   "execution_count": 279,
   "metadata": {},
   "outputs": [],
   "source": [
    "def homo_coord(pts):\n",
    "    rows=pts.shape[0]\n",
    "    pts=np.append(pts, np.ones((rows, 1)), axis=1)\n",
    "    return pts"
   ]
  },
  {
   "cell_type": "code",
   "execution_count": 280,
   "metadata": {},
   "outputs": [],
   "source": [
    "def Fiducial_matrix(X_pts,x_pts):\n",
    "    rows=X_pts.shape[0]\n",
    "    X_pts_homo=homo_coord(X_pts)\n",
    "    x_pts_homo=homo_coord(x_pts)\n",
    "\n",
    "    T=normalizing_matrix(x_pts)\n",
    "    U=normalizing_matrix(X_pts)\n",
    "    # print(T)\n",
    "    # print(U)\n",
    "    x_pts_homo=(np.dot(T,x_pts_homo.T)).T\n",
    "    X_pts_homo=(np.dot(U,X_pts_homo.T)).T\n",
    "\n",
    "    \n",
    "    zerocol=np.zeros((rows,4))\n",
    "    multx=(-X_pts_homo.T*x_pts_homo[:,0]).T\n",
    "    multy=(-X_pts_homo.T*x_pts_homo[:,1]).T\n",
    "\n",
    "    P=np.append(X_pts_homo,zerocol,axis=1)\n",
    "    P=np.append(P,multx,axis=1)\n",
    "    P=np.append(P,zerocol,axis=1)\n",
    "    P=np.append(P,X_pts_homo,axis=1)\n",
    "    P=np.append(P,multy,axis=1)\n",
    "    \n",
    "    P=np.reshape(P,(2*rows,12))\n",
    "    return P"
   ]
  },
  {
   "cell_type": "code",
   "execution_count": 281,
   "metadata": {},
   "outputs": [
    {
     "data": {
      "text/plain": [
       "array([[-1.53156745, -1.11386724, -0.97463383,  1.        ,  0.        ,\n",
       "         0.        ,  0.        ,  0.        , -2.55223374, -1.85616999,\n",
       "        -1.62414874,  1.66641942],\n",
       "       [ 0.        ,  0.        ,  0.        ,  0.        , -1.53156745,\n",
       "        -1.11386724, -0.97463383,  1.        ,  1.11173997,  0.80853816,\n",
       "         0.70747089, -0.72588378],\n",
       "       [-0.69616702, -0.27846681, -0.97463383,  1.        ,  0.        ,\n",
       "         0.        ,  0.        ,  0.        , -0.51674349, -0.2066974 ,\n",
       "        -0.72344089,  0.74226942],\n",
       "       [ 0.        ,  0.        ,  0.        ,  0.        , -0.69616702,\n",
       "        -0.27846681, -0.97463383,  1.        ,  0.36160637,  0.14464255,\n",
       "         0.50624892, -0.51942473],\n",
       "       [-0.69616702,  1.39233405, -0.97463383,  1.        ,  0.        ,\n",
       "         0.        ,  0.        ,  0.        ,  0.3798578 , -0.75971559,\n",
       "         0.53180092, -0.54564176],\n",
       "       [ 0.        ,  0.        ,  0.        ,  0.        , -0.69616702,\n",
       "         1.39233405, -0.97463383,  1.        ,  0.84755058, -1.69510116,\n",
       "         1.18657081, -1.21745293],\n",
       "       [ 0.97463383,  1.39233405,  0.69616702,  1.        ,  0.        ,\n",
       "         0.        ,  0.        ,  0.        , -1.49958276, -2.14226109,\n",
       "        -1.07113054, -1.53861144],\n",
       "       [ 0.        ,  0.        ,  0.        ,  0.        ,  0.97463383,\n",
       "         1.39233405,  0.69616702,  1.        ,  0.59568091,  0.85097272,\n",
       "         0.42548636,  0.61118431],\n",
       "       [ 0.97463383, -0.27846681,  0.69616702,  1.        ,  0.        ,\n",
       "         0.        ,  0.        ,  0.        , -0.29225095,  0.08350027,\n",
       "        -0.20875068, -0.29985718],\n",
       "       [ 0.        ,  0.        ,  0.        ,  0.        ,  0.97463383,\n",
       "        -0.27846681,  0.69616702,  1.        , -0.40084694,  0.1145277 ,\n",
       "        -0.28631924, -0.41127952],\n",
       "       [ 0.97463383, -1.11386724,  1.53156745,  1.        ,  0.        ,\n",
       "         0.        ,  0.        ,  0.        , -0.023955  ,  0.02737714,\n",
       "        -0.03764357, -0.02457846],\n",
       "       [ 0.        ,  0.        ,  0.        ,  0.        ,  0.97463383,\n",
       "        -1.11386724,  1.53156745,  1.        ,  2.20545665, -2.52052189,\n",
       "         3.46571759,  2.26285665]])"
      ]
     },
     "execution_count": 281,
     "metadata": {},
     "output_type": "execute_result"
    }
   ],
   "source": [
    "Fiducial_matrix(X,x)"
   ]
  },
  {
   "cell_type": "code",
   "execution_count": 282,
   "metadata": {},
   "outputs": [],
   "source": [
    "def denormalize(X_pts,x_pts,P):\n",
    "    T=normalizing_matrix(x_pts)\n",
    "    U=normalizing_matrix(X_pts)\n",
    "    P=np.dot(inv(T),P)\n",
    "    P=np.dot(P,U)\n",
    "    return P"
   ]
  },
  {
   "cell_type": "code",
   "execution_count": 283,
   "metadata": {},
   "outputs": [],
   "source": [
    "def P_estimate(X_pts,x_pts):\n",
    "    P=Fiducial_matrix(X_pts,x_pts)\n",
    "    u, s, vh = np.linalg.svd(P)\n",
    "    least_val_vector=vh[-1]\n",
    "    P=np.reshape(least_val_vector,(3,4))\n",
    "    P=denormalize(X_pts,x_pts,P)\n",
    "    return P"
   ]
  },
  {
   "cell_type": "code",
   "execution_count": 284,
   "metadata": {},
   "outputs": [],
   "source": [
    "def P_decomposition(P):\n",
    "    KR=P[:,:3]\n",
    "    KRX=P[:,-1]\n",
    "    r, q = rq(KR)\n",
    "    X_0 = np.dot(-np.linalg.inv(KR),KRX)\n",
    "    return r,q,X_0\n",
    "    # print(r)\n",
    "    # print(q)"
   ]
  },
  {
   "cell_type": "code",
   "execution_count": null,
   "metadata": {},
   "outputs": [],
   "source": []
  },
  {
   "cell_type": "code",
   "execution_count": 285,
   "metadata": {},
   "outputs": [
    {
     "name": "stdout",
     "output_type": "stream",
     "text": [
      "[[-8.84423195e+01  2.71582368e+01  8.40089891e+01  2.76823360e+02]\n",
      " [-1.48643609e+02  4.82865902e+01  1.48597337e+02  4.36515931e+02]\n",
      " [-1.75825963e-01  5.80696617e-02  1.72788662e-01  5.06063136e-01]]\n"
     ]
    }
   ],
   "source": [
    "P=P_estimate(X,x)\n",
    "print(P)"
   ]
  },
  {
   "cell_type": "code",
   "execution_count": 286,
   "metadata": {},
   "outputs": [
    {
     "data": {
      "text/plain": [
       "(array([[  -2.41916669,   -0.88464024, -124.94194252],\n",
       "        [   0.        ,    2.15613232, -215.64562801],\n",
       "        [   0.        ,    0.        ,   -0.25326424]]),\n",
       " array([[ 0.52304856,  0.81187109,  0.25939455],\n",
       "        [ 0.49442102, -0.53692995,  0.68355986],\n",
       "        [ 0.69423919, -0.22928488, -0.68224657]]),\n",
       " array([ 6.47112732, 10.83347145,  0.01523845]))"
      ]
     },
     "execution_count": 286,
     "metadata": {},
     "output_type": "execute_result"
    }
   ],
   "source": [
    "P_decomposition(P)"
   ]
  },
  {
   "cell_type": "code",
   "execution_count": 287,
   "metadata": {},
   "outputs": [],
   "source": [
    "X_test = np.array([\n",
    "    [0, 0, 0],\n",
    "    [11.85, 9.48, 0],\n",
    "    [4.74, 14.22, 0],\n",
    "    [11.85, 14.22, 7.11],\n",
    "    [9.48, 9.48, 0],\n",
    "    [11.85, 9.48, 2.37]\n",
    "]\n",
    ")"
   ]
  },
  {
   "cell_type": "code",
   "execution_count": 288,
   "metadata": {},
   "outputs": [],
   "source": [
    "x_actual = np.array([\n",
    "    [124, 887],\n",
    "    [542, 750],\n",
    "    [632, 980],\n",
    "    [789, 694],\n",
    "    [530, 798],\n",
    "    [580, 705]\n",
    "])"
   ]
  },
  {
   "cell_type": "code",
   "execution_count": 289,
   "metadata": {},
   "outputs": [],
   "source": [
    "def test_pred(P, X_test):\n",
    "  rows=X_test.shape[0]\n",
    "  X_test = np.append(X_test, np.ones((rows,1)), axis=1)\n",
    "  # print(X_test)\n",
    "  x_test = np.dot(P,X_test.T)\n",
    "  x_test = x_test/x_test[2]\n",
    "  x_test = x_test[0:2].T\n",
    "  return x_test"
   ]
  },
  {
   "cell_type": "code",
   "execution_count": 290,
   "metadata": {},
   "outputs": [],
   "source": [
    "x_predict=test_pred(P,X_test)"
   ]
  },
  {
   "cell_type": "code",
   "execution_count": 291,
   "metadata": {},
   "outputs": [],
   "source": [
    "def rms_error(x_predict, x_actual):\n",
    "    return np.sqrt(np.mean((x_predict-x_actual)**2))"
   ]
  },
  {
   "cell_type": "code",
   "execution_count": 292,
   "metadata": {},
   "outputs": [
    {
     "data": {
      "text/plain": [
       "184.09147086902425"
      ]
     },
     "execution_count": 292,
     "metadata": {},
     "output_type": "execute_result"
    }
   ],
   "source": [
    "rms_error(x_predict,x_actual)"
   ]
  }
 ],
 "metadata": {
  "kernelspec": {
   "display_name": "base",
   "language": "python",
   "name": "python3"
  },
  "language_info": {
   "codemirror_mode": {
    "name": "ipython",
    "version": 3
   },
   "file_extension": ".py",
   "mimetype": "text/x-python",
   "name": "python",
   "nbconvert_exporter": "python",
   "pygments_lexer": "ipython3",
   "version": "3.8.8"
  },
  "orig_nbformat": 4,
  "vscode": {
   "interpreter": {
    "hash": "0a9832322fafd2730dc149af687337c0a09b45fcc0b3b65c4fba6625a2f98152"
   }
  }
 },
 "nbformat": 4,
 "nbformat_minor": 2
}
