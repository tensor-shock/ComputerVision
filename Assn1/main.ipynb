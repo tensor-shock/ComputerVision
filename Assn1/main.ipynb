{
 "cells": [
  {
   "cell_type": "code",
   "execution_count": 1,
   "metadata": {},
   "outputs": [],
   "source": [
    "import numpy as np\n",
    "from numpy import linalg as LA\n",
    "from numpy.linalg import inv\n",
    "from scipy.linalg import rq\n",
    "import math"
   ]
  },
  {
   "cell_type": "code",
   "execution_count": 2,
   "metadata": {},
   "outputs": [],
   "source": [
    "# X = np.array([\n",
    "#     [4.74, 4.74, 0],\n",
    "#     [7.11, 7.11, 0],\n",
    "#     [7.11, 11.85, 0],\n",
    "#     [11.85, 11.85, 4.74],\n",
    "#     [11.85, 7.11, 4.74],\n",
    "#     [11.85, 4.74, 7.11]\n",
    "# ]\n",
    "# )\n",
    "X = np.array([\n",
    "    [2,2,0],\n",
    "    [3,5,0],\n",
    "    [5,5,2],\n",
    "    [5,2,3],\n",
    "    [5,6,3],\n",
    "    [5,4,1]\n",
    "]\n",
    ")\n"
   ]
  },
  {
   "cell_type": "code",
   "execution_count": 3,
   "metadata": {},
   "outputs": [],
   "source": [
    "# x = np.array([\n",
    "#     [356, 836],\n",
    "#     [450, 815],\n",
    "#     [581, 886],\n",
    "#     [682, 700],\n",
    "#     [556, 804],\n",
    "#     [528, 532]\n",
    "# ]\n",
    "# )\n",
    "x = np.array([\n",
    "    [356, 836],\n",
    "    [581, 886],\n",
    "    [682, 700],\n",
    "    [528, 532],\n",
    "    [789, 694],\n",
    "    [580, 702]\n",
    "]\n",
    ")"
   ]
  },
  {
   "cell_type": "code",
   "execution_count": 4,
   "metadata": {},
   "outputs": [],
   "source": [
    "def normalizing_params(pts):\n",
    "    centroid=np.mean(pts,axis=0)\n",
    "    avg_distance=np.mean(LA.norm(pts-centroid, axis=1))\n",
    "    return centroid,avg_distance\n"
   ]
  },
  {
   "cell_type": "code",
   "execution_count": 5,
   "metadata": {},
   "outputs": [],
   "source": [
    "def normalizing_matrix(pts):\n",
    "    c,d=normalizing_params(pts)\n",
    "    n=pts.shape[1]\n",
    "    if n==2:\n",
    "        d=d/math.sqrt(2)\n",
    "        mat=np.array([[1/d,0,-c[0]/d],[0,1/d,-c[1]/d],[0,0,1]])\n",
    "    else:\n",
    "        d=d/math.sqrt(3)\n",
    "        mat=np.array([[1/d,0,0,-c[0]/d],[0,1/d,0,-c[1]/d],[0,0,1/d,-c[2]/d],[0,0,0,1]])\n",
    "    return mat"
   ]
  },
  {
   "cell_type": "code",
   "execution_count": 6,
   "metadata": {},
   "outputs": [],
   "source": [
    "def homo_coord(pts):\n",
    "    rows=pts.shape[0]\n",
    "    pts=np.append(pts, np.ones((rows, 1)), axis=1)\n",
    "    return pts"
   ]
  },
  {
   "cell_type": "code",
   "execution_count": 7,
   "metadata": {},
   "outputs": [],
   "source": [
    "def Fiducial_matrix(X_pts,x_pts):\n",
    "    rows=X_pts.shape[0]\n",
    "    X_pts_homo=homo_coord(X_pts)\n",
    "    x_pts_homo=homo_coord(x_pts)\n",
    "\n",
    "    T=normalizing_matrix(x_pts)\n",
    "    U=normalizing_matrix(X_pts)\n",
    "    # print(T)\n",
    "    # print(U)\n",
    "    x_pts_homo=(np.dot(T,x_pts_homo.T)).T\n",
    "    X_pts_homo=(np.dot(U,X_pts_homo.T)).T\n",
    "\n",
    "    \n",
    "    zerocol=np.zeros((rows,4))\n",
    "    multx=(-X_pts_homo.T*x_pts_homo[:,0]).T\n",
    "    multy=(-X_pts_homo.T*x_pts_homo[:,1]).T\n",
    "\n",
    "    P=np.append(X_pts_homo,zerocol,axis=1)\n",
    "    P=np.append(P,multx,axis=1)\n",
    "    P=np.append(P,zerocol,axis=1)\n",
    "    P=np.append(P,X_pts_homo,axis=1)\n",
    "    P=np.append(P,multy,axis=1)\n",
    "    \n",
    "    P=np.reshape(P,(2*rows,12))\n",
    "    return P"
   ]
  },
  {
   "cell_type": "code",
   "execution_count": 8,
   "metadata": {},
   "outputs": [],
   "source": [
    "# Fiducial_matrix(X,x)"
   ]
  },
  {
   "cell_type": "code",
   "execution_count": 9,
   "metadata": {},
   "outputs": [],
   "source": [
    "def denormalize(X_pts,x_pts,P):\n",
    "    T=normalizing_matrix(x_pts)\n",
    "    U=normalizing_matrix(X_pts)\n",
    "    P=np.dot(inv(T),P)\n",
    "    P=np.dot(P,U)\n",
    "    return P"
   ]
  },
  {
   "cell_type": "code",
   "execution_count": 10,
   "metadata": {},
   "outputs": [],
   "source": [
    "def P_estimate(X_pts,x_pts):\n",
    "    P=Fiducial_matrix(X_pts,x_pts)\n",
    "    u, s, vh = np.linalg.svd(P)\n",
    "    least_val_vector=vh[-1]\n",
    "    P=np.reshape(least_val_vector,(3,4))\n",
    "    P=denormalize(X_pts,x_pts,P)\n",
    "    return P"
   ]
  },
  {
   "cell_type": "code",
   "execution_count": 21,
   "metadata": {},
   "outputs": [],
   "source": [
    "def P_decomposition(P):\n",
    "    KR=P[:,0:3]\n",
    "    K, R = rq(KR)\n",
    "    KRX=P[:,-1]\n",
    "    X_0 = np.dot(-np.linalg.inv(KR),KRX)\n",
    "    return K,R,X_0\n",
    "    # print(r)\n",
    "    # print(q)"
   ]
  },
  {
   "cell_type": "code",
   "execution_count": 22,
   "metadata": {},
   "outputs": [],
   "source": [
    "# print(normalizing_matrix(x))#T\n",
    "# print(normalizing_matrix(X))#U"
   ]
  },
  {
   "cell_type": "code",
   "execution_count": 23,
   "metadata": {},
   "outputs": [
    {
     "name": "stdout",
     "output_type": "stream",
     "text": [
      "[[ 2.56592115e+01  4.60951586e+01  1.07832658e+01  6.18561828e+01]\n",
      " [-1.07943168e+01  3.05750883e+01 -4.42653005e+01  4.42695680e+02]\n",
      " [ 3.14083369e-02  9.12628459e-03 -2.50249878e-02  4.95793551e-01]]\n"
     ]
    }
   ],
   "source": [
    "P=P_estimate(X,x)\n",
    "print(P)"
   ]
  },
  {
   "cell_type": "code",
   "execution_count": null,
   "metadata": {},
   "outputs": [],
   "source": []
  },
  {
   "cell_type": "code",
   "execution_count": 15,
   "metadata": {},
   "outputs": [],
   "source": [
    "X_test = np.array([\n",
    "    [0, 0, 0],\n",
    "    [11.85, 9.48, 0],\n",
    "    [4.74, 14.22, 0],\n",
    "    [11.85, 14.22, 7.11],\n",
    "    [9.48, 9.48, 0],\n",
    "    [11.85, 9.48, 2.37]\n",
    "]\n",
    ")"
   ]
  },
  {
   "cell_type": "code",
   "execution_count": 16,
   "metadata": {},
   "outputs": [],
   "source": [
    "x_actual = np.array([\n",
    "    [124, 887],\n",
    "    [542, 750],\n",
    "    [632, 980],\n",
    "    [789, 694],\n",
    "    [530, 798],\n",
    "    [580, 705]\n",
    "])"
   ]
  },
  {
   "cell_type": "code",
   "execution_count": 17,
   "metadata": {},
   "outputs": [],
   "source": [
    "def test_pred(P, X_test):\n",
    "  rows=X_test.shape[0]\n",
    "  X_test = np.append(X_test, np.ones((rows,1)), axis=1)\n",
    "  # print(X_test)\n",
    "  x_test = np.dot(P,X_test.T)\n",
    "  x_test = x_test/x_test[2]\n",
    "  x_test = x_test[0:2].T\n",
    "  return x_test"
   ]
  },
  {
   "cell_type": "code",
   "execution_count": 18,
   "metadata": {},
   "outputs": [],
   "source": [
    "# x_predict=test_pred(P,X_test)\n",
    "x_predict=test_pred(P,X)"
   ]
  },
  {
   "cell_type": "code",
   "execution_count": 19,
   "metadata": {},
   "outputs": [],
   "source": [
    "def rms_error(x_predict, x_actual):\n",
    "    return np.sqrt(np.mean((x_predict-x_actual)**2))"
   ]
  },
  {
   "cell_type": "code",
   "execution_count": 20,
   "metadata": {},
   "outputs": [
    {
     "data": {
      "text/plain": [
       "0.4486850397607956"
      ]
     },
     "execution_count": 20,
     "metadata": {},
     "output_type": "execute_result"
    }
   ],
   "source": [
    "# rms_error(x_predict,x_actual)\n",
    "rms_error(x,x_predict)"
   ]
  },
  {
   "cell_type": "code",
   "execution_count": null,
   "metadata": {},
   "outputs": [],
   "source": []
  },
  {
   "cell_type": "code",
   "execution_count": 56,
   "metadata": {},
   "outputs": [],
   "source": [
    "def params1(P):\n",
    "    K,R,X0=P_decomposition(P)\n",
    "    alpha=K[0][0]\n",
    "    theta=np.arctan(-alpha/K[0][1])\n",
    "    theta_degree=theta*180/np.pi\n",
    "    beta=K[1][1]*np.sin(theta)\n",
    "    x0=K[0][2]\n",
    "    y0=K[1][2]\n",
    "    skew=K[0][1]\n",
    "    t=-np.dot(R,X0)\n",
    "    return alpha,beta,theta_degree,x0,y0,skew,R,X0,t\n",
    "    \n",
    "    "
   ]
  },
  {
   "cell_type": "code",
   "execution_count": 57,
   "metadata": {},
   "outputs": [],
   "source": [
    "alpha,beta,theta_degree,x0,y0,skew,R,X0,t=params1(P)"
   ]
  },
  {
   "cell_type": "code",
   "execution_count": 58,
   "metadata": {},
   "outputs": [
    {
     "data": {
      "text/plain": [
       "array([-6.61574648, -0.32386539, 11.39054574])"
      ]
     },
     "execution_count": 58,
     "metadata": {},
     "output_type": "execute_result"
    }
   ],
   "source": [
    "X0"
   ]
  },
  {
   "cell_type": "code",
   "execution_count": 59,
   "metadata": {},
   "outputs": [
    {
     "data": {
      "text/plain": [
       "array([-4.56185248, -2.80590272, 12.03885104])"
      ]
     },
     "execution_count": 59,
     "metadata": {},
     "output_type": "execute_result"
    }
   ],
   "source": [
    "t"
   ]
  },
  {
   "cell_type": "code",
   "execution_count": 60,
   "metadata": {},
   "outputs": [
    {
     "data": {
      "text/plain": [
       "(3, 4)"
      ]
     },
     "execution_count": 60,
     "metadata": {},
     "output_type": "execute_result"
    }
   ],
   "source": [
    "P.shape"
   ]
  },
  {
   "cell_type": "code",
   "execution_count": 71,
   "metadata": {},
   "outputs": [],
   "source": [
    "def radial_dist(P,X_test):\n",
    "    rows=X_test.shape[0]\n",
    "    X_test = np.append(X_test, np.ones((rows,1)), axis=1)\n",
    "    # print(X_test)\n",
    "    x_test = np.dot(P,X_test.T)\n",
    "    # x_test = x_test/x_test[2]\n",
    "    x_test = x_test.T\n",
    "    return x_test"
   ]
  },
  {
   "cell_type": "code",
   "execution_count": 72,
   "metadata": {},
   "outputs": [
    {
     "data": {
      "text/plain": [
       "array([[205.36492307, 482.25722261,   0.57686279],\n",
       "       [369.30961049, 563.18817086,   0.63564998],\n",
       "       [442.19456504, 453.06893626,   0.64841668],\n",
       "       [314.6923549 , 317.07837072,   0.59601284],\n",
       "       [499.07298944, 439.3787241 ,   0.63251798],\n",
       "       [385.31614064, 466.75914843,   0.66431539]])"
      ]
     },
     "execution_count": 72,
     "metadata": {},
     "output_type": "execute_result"
    }
   ],
   "source": [
    "radial_dist(P,X)"
   ]
  },
  {
   "cell_type": "code",
   "execution_count": null,
   "metadata": {},
   "outputs": [],
   "source": []
  }
 ],
 "metadata": {
  "kernelspec": {
   "display_name": "base",
   "language": "python",
   "name": "python3"
  },
  "language_info": {
   "codemirror_mode": {
    "name": "ipython",
    "version": 3
   },
   "file_extension": ".py",
   "mimetype": "text/x-python",
   "name": "python",
   "nbconvert_exporter": "python",
   "pygments_lexer": "ipython3",
   "version": "3.8.8"
  },
  "orig_nbformat": 4,
  "vscode": {
   "interpreter": {
    "hash": "0a9832322fafd2730dc149af687337c0a09b45fcc0b3b65c4fba6625a2f98152"
   }
  }
 },
 "nbformat": 4,
 "nbformat_minor": 2
}
