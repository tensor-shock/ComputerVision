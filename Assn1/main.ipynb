{
 "cells": [
  {
   "cell_type": "code",
   "execution_count": 42,
   "metadata": {},
   "outputs": [],
   "source": [
    "import numpy as np\n",
    "from numpy import linalg as LA\n",
    "from numpy.linalg import inv\n",
    "from scipy.linalg import rq\n",
    "import math"
   ]
  },
  {
   "cell_type": "code",
   "execution_count": 43,
   "metadata": {},
   "outputs": [],
   "source": [
    "# X = np.array([\n",
    "#     [4.74, 4.74, 0],\n",
    "#     [7.11, 7.11, 0],\n",
    "#     [7.11, 11.85, 0],\n",
    "#     [11.85, 11.85, 4.74],\n",
    "#     [11.85, 7.11, 4.74],\n",
    "#     [11.85, 4.74, 7.11]\n",
    "# ]\n",
    "# )\n",
    "X = np.array([\n",
    "    [2,2,0],\n",
    "    [3,5,0],\n",
    "    [5,5,2],\n",
    "    [5,2,3],\n",
    "    [5,6,3],\n",
    "    [5,4,1]\n",
    "]\n",
    ")\n"
   ]
  },
  {
   "cell_type": "code",
   "execution_count": 44,
   "metadata": {},
   "outputs": [],
   "source": [
    "# x = np.array([\n",
    "#     [356, 836],\n",
    "#     [450, 815],\n",
    "#     [581, 886],\n",
    "#     [682, 700],\n",
    "#     [556, 804],\n",
    "#     [528, 532]\n",
    "# ]\n",
    "# )\n",
    "x = np.array([\n",
    "    [356, 836],\n",
    "    [581, 886],\n",
    "    [682, 700],\n",
    "    [528, 532],\n",
    "    [789, 694],\n",
    "    [580, 702]\n",
    "]\n",
    ")"
   ]
  },
  {
   "cell_type": "code",
   "execution_count": 45,
   "metadata": {},
   "outputs": [],
   "source": [
    "def normalizing_params(pts):\n",
    "    centroid=np.mean(pts,axis=0)\n",
    "    avg_distance=np.mean(LA.norm(pts-centroid, axis=1))\n",
    "    return centroid,avg_distance\n"
   ]
  },
  {
   "cell_type": "code",
   "execution_count": 46,
   "metadata": {},
   "outputs": [],
   "source": [
    "def normalizing_matrix(pts):\n",
    "    c,d=normalizing_params(pts)\n",
    "    n=pts.shape[1]\n",
    "    if n==2:\n",
    "        d=d/math.sqrt(2)\n",
    "        mat=np.array([[1/d,0,-c[0]/d],[0,1/d,-c[1]/d],[0,0,1]])\n",
    "    else:\n",
    "        d=d/math.sqrt(3)\n",
    "        mat=np.array([[1/d,0,0,-c[0]/d],[0,1/d,0,-c[1]/d],[0,0,1/d,-c[2]/d],[0,0,0,1]])\n",
    "    return mat"
   ]
  },
  {
   "cell_type": "code",
   "execution_count": 47,
   "metadata": {},
   "outputs": [],
   "source": [
    "def homo_coord(pts):\n",
    "    rows=pts.shape[0]\n",
    "    pts=np.append(pts, np.ones((rows, 1)), axis=1)\n",
    "    return pts"
   ]
  },
  {
   "cell_type": "code",
   "execution_count": 48,
   "metadata": {},
   "outputs": [],
   "source": [
    "def Fiducial_matrix(X_pts,x_pts):\n",
    "    rows=X_pts.shape[0]\n",
    "    X_pts_homo=homo_coord(X_pts)\n",
    "    x_pts_homo=homo_coord(x_pts)\n",
    "\n",
    "    T=normalizing_matrix(x_pts)\n",
    "    U=normalizing_matrix(X_pts)\n",
    "    # print(T)\n",
    "    # print(U)\n",
    "    x_pts_homo=(np.dot(T,x_pts_homo.T)).T\n",
    "    X_pts_homo=(np.dot(U,X_pts_homo.T)).T\n",
    "\n",
    "    \n",
    "    zerocol=np.zeros((rows,4))\n",
    "    multx=(-X_pts_homo.T*x_pts_homo[:,0]).T\n",
    "    multy=(-X_pts_homo.T*x_pts_homo[:,1]).T\n",
    "\n",
    "    P=np.append(X_pts_homo,zerocol,axis=1)\n",
    "    P=np.append(P,multx,axis=1)\n",
    "    P=np.append(P,zerocol,axis=1)\n",
    "    P=np.append(P,X_pts_homo,axis=1)\n",
    "    P=np.append(P,multy,axis=1)\n",
    "    \n",
    "    P=np.reshape(P,(2*rows,12))\n",
    "    return P"
   ]
  },
  {
   "cell_type": "code",
   "execution_count": 49,
   "metadata": {},
   "outputs": [],
   "source": [
    "# Fiducial_matrix(X,x)"
   ]
  },
  {
   "cell_type": "code",
   "execution_count": 50,
   "metadata": {},
   "outputs": [],
   "source": [
    "def denormalize(X_pts,x_pts,P):\n",
    "    T=normalizing_matrix(x_pts)\n",
    "    U=normalizing_matrix(X_pts)\n",
    "    P=np.dot(inv(T),P)\n",
    "    P=np.dot(P,U)\n",
    "    return P"
   ]
  },
  {
   "cell_type": "code",
   "execution_count": 51,
   "metadata": {},
   "outputs": [],
   "source": [
    "def P_estimate(X_pts,x_pts):\n",
    "    P=Fiducial_matrix(X_pts,x_pts)\n",
    "    u, s, vh = np.linalg.svd(P)\n",
    "    least_val_vector=vh[-1]\n",
    "    P=np.reshape(least_val_vector,(3,4))\n",
    "    P=denormalize(X_pts,x_pts,P)\n",
    "    return P"
   ]
  },
  {
   "cell_type": "code",
   "execution_count": 52,
   "metadata": {},
   "outputs": [],
   "source": [
    "def P_decomposition(P):\n",
    "    KR=P[:,0:3]\n",
    "    K, R = rq(KR)\n",
    "    KRX=P[:,-1]\n",
    "    X_0 = np.dot(-np.linalg.inv(KR),KRX)\n",
    "    return K,R,X_0\n",
    "    # print(r)\n",
    "    # print(q)"
   ]
  },
  {
   "cell_type": "code",
   "execution_count": 53,
   "metadata": {},
   "outputs": [],
   "source": [
    "# print(normalizing_matrix(x))#T\n",
    "# print(normalizing_matrix(X))#U"
   ]
  },
  {
   "cell_type": "code",
   "execution_count": 54,
   "metadata": {},
   "outputs": [
    {
     "name": "stdout",
     "output_type": "stream",
     "text": [
      "[[ 2.56592115e+01  4.60951586e+01  1.07832658e+01  6.18561828e+01]\n",
      " [-1.07943168e+01  3.05750883e+01 -4.42653005e+01  4.42695680e+02]\n",
      " [ 3.14083369e-02  9.12628459e-03 -2.50249878e-02  4.95793551e-01]]\n"
     ]
    }
   ],
   "source": [
    "P=P_estimate(X,x)\n",
    "print(P)"
   ]
  },
  {
   "cell_type": "code",
   "execution_count": null,
   "metadata": {},
   "outputs": [],
   "source": []
  },
  {
   "cell_type": "code",
   "execution_count": 55,
   "metadata": {},
   "outputs": [],
   "source": [
    "X_test = np.array([\n",
    "    [0, 0, 0],\n",
    "    [11.85, 9.48, 0],\n",
    "    [4.74, 14.22, 0],\n",
    "    [11.85, 14.22, 7.11],\n",
    "    [9.48, 9.48, 0],\n",
    "    [11.85, 9.48, 2.37]\n",
    "]\n",
    ")"
   ]
  },
  {
   "cell_type": "code",
   "execution_count": 56,
   "metadata": {},
   "outputs": [],
   "source": [
    "x_actual = np.array([\n",
    "    [124, 887],\n",
    "    [542, 750],\n",
    "    [632, 980],\n",
    "    [789, 694],\n",
    "    [530, 798],\n",
    "    [580, 705]\n",
    "])"
   ]
  },
  {
   "cell_type": "code",
   "execution_count": 57,
   "metadata": {},
   "outputs": [],
   "source": [
    "def test_pred(P, X_test):\n",
    "  rows=X_test.shape[0]\n",
    "  X_test = np.append(X_test, np.ones((rows,1)), axis=1)\n",
    "  # print(X_test)\n",
    "  x_test = np.dot(P,X_test.T)\n",
    "  x_test = x_test/x_test[2]\n",
    "  x_test = x_test[0:2].T\n",
    "  return x_test"
   ]
  },
  {
   "cell_type": "code",
   "execution_count": 58,
   "metadata": {},
   "outputs": [],
   "source": [
    "# x_predict=test_pred(P,X_test)\n",
    "x_predict=test_pred(P,X)"
   ]
  },
  {
   "cell_type": "code",
   "execution_count": 59,
   "metadata": {},
   "outputs": [
    {
     "data": {
      "text/plain": [
       "array([[356.00306569, 835.99987349],\n",
       "       [580.99523247, 886.00359416],\n",
       "       [681.96049992, 698.73115297],\n",
       "       [527.99593102, 531.99922702],\n",
       "       [789.02577589, 694.65017347],\n",
       "       [580.01989541, 702.6167967 ]])"
      ]
     },
     "execution_count": 59,
     "metadata": {},
     "output_type": "execute_result"
    }
   ],
   "source": [
    "x_predict"
   ]
  },
  {
   "cell_type": "code",
   "execution_count": 60,
   "metadata": {},
   "outputs": [],
   "source": [
    "def rms_error(x_predict, x_actual):\n",
    "    return np.sqrt(np.mean((x_predict-x_actual)**2))"
   ]
  },
  {
   "cell_type": "code",
   "execution_count": 61,
   "metadata": {},
   "outputs": [
    {
     "data": {
      "text/plain": [
       "0.4486850397607956"
      ]
     },
     "execution_count": 61,
     "metadata": {},
     "output_type": "execute_result"
    }
   ],
   "source": [
    "# rms_error(x_predict,x_actual)\n",
    "rms_error(x,x_predict)"
   ]
  },
  {
   "cell_type": "code",
   "execution_count": null,
   "metadata": {},
   "outputs": [],
   "source": []
  },
  {
   "cell_type": "code",
   "execution_count": 62,
   "metadata": {},
   "outputs": [],
   "source": [
    "def params1(P):\n",
    "    K,R,X0=P_decomposition(P)\n",
    "    alpha=K[0][0]\n",
    "    theta=np.arctan(-alpha/K[0][1])\n",
    "    theta_degree=theta*180/np.pi\n",
    "    beta=K[1][1]*np.sin(theta)\n",
    "    x0=K[0][2]\n",
    "    y0=K[1][2]\n",
    "    skew=K[0][1]\n",
    "    t=-np.dot(R,X0)\n",
    "    return alpha,beta,theta_degree,x0,y0,skew,R,X0,K,t\n",
    "    \n",
    "    "
   ]
  },
  {
   "cell_type": "code",
   "execution_count": 63,
   "metadata": {},
   "outputs": [],
   "source": [
    "alpha,beta,theta_degree,x0,y0,skew,R,X0,K,t=params1(P)"
   ]
  },
  {
   "cell_type": "code",
   "execution_count": 92,
   "metadata": {},
   "outputs": [
    {
     "data": {
      "text/plain": [
       "array([[ 4.85592318e+01, -1.31695140e+00,  2.32315357e+01],\n",
       "       [ 0.00000000e+00, -4.86159460e+01,  2.54413036e+01],\n",
       "       [ 0.00000000e+00,  0.00000000e+00,  4.11827964e-02]])"
      ]
     },
     "execution_count": 92,
     "metadata": {},
     "output_type": "execute_result"
    }
   ],
   "source": [
    "K"
   ]
  },
  {
   "cell_type": "code",
   "execution_count": 64,
   "metadata": {},
   "outputs": [
    {
     "data": {
      "text/plain": [
       "array([-6.61574648, -0.32386539, 11.39054574])"
      ]
     },
     "execution_count": 64,
     "metadata": {},
     "output_type": "execute_result"
    }
   ],
   "source": [
    "X0"
   ]
  },
  {
   "cell_type": "code",
   "execution_count": 65,
   "metadata": {},
   "outputs": [
    {
     "data": {
      "text/plain": [
       "array([-4.56185248, -2.80590272, 12.03885104])"
      ]
     },
     "execution_count": 65,
     "metadata": {},
     "output_type": "execute_result"
    }
   ],
   "source": [
    "t"
   ]
  },
  {
   "cell_type": "code",
   "execution_count": 66,
   "metadata": {},
   "outputs": [],
   "source": [
    "def test_pred2(P,X_test):\n",
    "    rows=X_test.shape[0]\n",
    "    X_test = np.append(X_test, np.ones((rows,1)), axis=1)\n",
    "    # print(X_test)\n",
    "    x_test = np.dot(P,X_test.T)\n",
    "    x_test = x_test/x_test[2]\n",
    "    return x_test"
   ]
  },
  {
   "cell_type": "code",
   "execution_count": 67,
   "metadata": {},
   "outputs": [],
   "source": [
    "# arr=radial_dist(P,X).T\n"
   ]
  },
  {
   "cell_type": "code",
   "execution_count": 68,
   "metadata": {},
   "outputs": [],
   "source": [
    "# arr"
   ]
  },
  {
   "cell_type": "code",
   "execution_count": 69,
   "metadata": {},
   "outputs": [],
   "source": [
    "# x_one_pred=arr[:,0]\n",
    "# print(x_one_pred)\n",
    "# x_one_actual=x.T[:,0]\n",
    "# print(x_one_actual)\n",
    "# d2=LA.norm(np.dot(K_inv,x_one_pred))-1\n",
    "# print(d2)\n"
   ]
  },
  {
   "cell_type": "code",
   "execution_count": 70,
   "metadata": {},
   "outputs": [],
   "source": [
    "# ratio_x_one=x_one_pred[:-1]/x_one_actual\n",
    "# print(ratio_x_one)"
   ]
  },
  {
   "cell_type": "code",
   "execution_count": 71,
   "metadata": {},
   "outputs": [],
   "source": [
    "# meanval=np.mean(ratio_x_one)\n",
    "# polyval=meanval-1\n",
    "# print(polyval)"
   ]
  },
  {
   "cell_type": "code",
   "execution_count": 72,
   "metadata": {},
   "outputs": [],
   "source": [
    "# rad_dist_params=3   #<=6\n",
    "# poly_val=np.zeros(rad_dist_params)\n",
    "# distance_power_matrix=np.zeros((rad_dist_params,rad_dist_params))\n",
    "# K_inv=inv(K)\n",
    "# for i in range(rad_dist_params):\n",
    "#     x_one_pred=arr[:,i]\n",
    "#     # print(x_one_pred)\n",
    "#     x_one_actual=x.T[:,i]\n",
    "#     # print(x_one_actual)\n",
    "#     d2=LA.norm(np.dot(K_inv,x_one_pred))-1\n",
    "#     # print(d2)\n",
    "#     for j in range(rad_dist_params):\n",
    "#         distance_power_matrix[j][i]=np.power(d2,j+1)\n",
    "#     ratio_x_one=x_one_pred[:-1]/x_one_actual\n",
    "#     # print(ratio_x_one)\n",
    "#     meanval=np.mean(ratio_x_one)\n",
    "#     # print(meanval)\n",
    "#     polyval=meanval-1\n",
    "#     poly_val[i]=polyval\n",
    "# dist_inv=inv(distance_power_matrix)\n",
    "# param_val=np.dot(poly_val,dist_inv)"
   ]
  },
  {
   "cell_type": "code",
   "execution_count": 73,
   "metadata": {},
   "outputs": [],
   "source": [
    "# param_val"
   ]
  },
  {
   "cell_type": "code",
   "execution_count": 74,
   "metadata": {},
   "outputs": [
    {
     "name": "stdout",
     "output_type": "stream",
     "text": [
      "[[356.00306569 580.99523247 681.96049992 527.99593102 789.02577589\n",
      "  580.01989541]\n",
      " [835.99987349 886.00359416 698.73115297 531.99922702 694.65017347\n",
      "  702.6167967 ]\n",
      " [  1.           1.           1.           1.           1.\n",
      "    1.        ]]\n"
     ]
    }
   ],
   "source": [
    "arr=test_pred2(P,X)\n",
    "print(arr)"
   ]
  },
  {
   "cell_type": "code",
   "execution_count": 75,
   "metadata": {},
   "outputs": [],
   "source": [
    "def get_param_val(P,rad_dist_params,K_inv):\n",
    "    poly_val=np.zeros(rad_dist_params)\n",
    "    distance_power_matrix=np.zeros((rad_dist_params,rad_dist_params))\n",
    "    for i in range(rad_dist_params):\n",
    "        x_one_pred=arr[:,i]\n",
    "        x_one_actual=x.T[:,i]\n",
    "        d2=LA.norm(np.dot(K_inv,x_one_pred))-1\n",
    "        \n",
    "        for j in range(rad_dist_params):\n",
    "            distance_power_matrix[j][i]=np.power(d2,j+1)\n",
    "        ratio_x_one=x_one_pred[:-1]/x_one_actual\n",
    "        meanval=np.mean(ratio_x_one)\n",
    "        polyval=meanval-1\n",
    "        poly_val[i]=polyval\n",
    "    dist_inv=inv(distance_power_matrix)\n",
    "    param_val=np.dot(poly_val,dist_inv)\n",
    "    return param_val"
   ]
  },
  {
   "cell_type": "code",
   "execution_count": 76,
   "metadata": {},
   "outputs": [],
   "source": [
    "def rad_test_pred(P,X_test,rad_dist_params):\n",
    "\n",
    "\n",
    "    # rad_dist_params=3   #<=6\n",
    "    \n",
    "    K,R,X0=P_decomposition(P)\n",
    "    K_inv=inv(K)\n",
    "    param_val=get_param_val(P,rad_dist_params,K_inv)\n",
    "\n",
    "\n",
    "    rows=X_test.shape[0]\n",
    "    X_test = np.append(X_test, np.ones((rows,1)), axis=1)\n",
    "    x_test = np.dot(P,X_test.T)\n",
    "    x_test = x_test/x_test[2]\n",
    "\n",
    "    K_inv=inv(K)\n",
    "    cols=x_test.shape[1]\n",
    "    for i in range(cols):\n",
    "        d2=LA.norm(np.dot(K_inv,x_test[:,i]))-1\n",
    "        mult=1\n",
    "        lamb=1\n",
    "        for j in range(rad_dist_params):\n",
    "            mult*=d2\n",
    "            lamb+=mult*param_val[j]\n",
    "        x_test[0][i]/=lamb\n",
    "        x_test[1][i]/=lamb\n",
    "    return x_test[:2,:].T"
   ]
  },
  {
   "cell_type": "code",
   "execution_count": 89,
   "metadata": {},
   "outputs": [
    {
     "name": "stdout",
     "output_type": "stream",
     "text": [
      "1 0.4486888407704048\n",
      "2 0.44816655017785173\n",
      "3 0.6719052177159313\n",
      "4 0.45200204468778393\n",
      "5 0.3151800517443621\n",
      "6 0.30410394229176685\n"
     ]
    }
   ],
   "source": [
    "for i in range(1,7):\n",
    "    print(i,rms_error(x,rad_test_pred(P,X,i)))"
   ]
  },
  {
   "cell_type": "code",
   "execution_count": null,
   "metadata": {},
   "outputs": [],
   "source": []
  },
  {
   "cell_type": "code",
   "execution_count": null,
   "metadata": {},
   "outputs": [],
   "source": []
  },
  {
   "cell_type": "code",
   "execution_count": 78,
   "metadata": {},
   "outputs": [],
   "source": [
    "X_test = np.array([\n",
    "    [2, 6, 0],\n",
    "    [4, 4, 0]\n",
    "]\n",
    ")"
   ]
  },
  {
   "cell_type": "code",
   "execution_count": 79,
   "metadata": {},
   "outputs": [],
   "source": [
    "x_actual = np.array([\n",
    "    [632, 980],\n",
    "    [530, 798]\n",
    "])"
   ]
  },
  {
   "cell_type": "code",
   "execution_count": 80,
   "metadata": {},
   "outputs": [
    {
     "data": {
      "text/plain": [
       "4.1030328638098"
      ]
     },
     "execution_count": 80,
     "metadata": {},
     "output_type": "execute_result"
    }
   ],
   "source": [
    "rms_error(x_actual,test_pred(P,X_test))"
   ]
  },
  {
   "cell_type": "code",
   "execution_count": 87,
   "metadata": {},
   "outputs": [
    {
     "data": {
      "text/plain": [
       "4.329204575374827"
      ]
     },
     "execution_count": 87,
     "metadata": {},
     "output_type": "execute_result"
    }
   ],
   "source": [
    "rms_error(x_actual,rad_test_pred(P,X_test,3))"
   ]
  },
  {
   "cell_type": "code",
   "execution_count": 91,
   "metadata": {},
   "outputs": [
    {
     "name": "stdout",
     "output_type": "stream",
     "text": [
      "1 4.101952259640936\n",
      "2 4.091576193983036\n",
      "3 4.329204575374827\n",
      "4 8.42042120528208\n",
      "5 19.76476407890678\n",
      "6 150.59429144873513\n"
     ]
    }
   ],
   "source": [
    "for i in range(1,7):\n",
    "    print(i,rms_error(x_actual,rad_test_pred(P,X_test,i)))"
   ]
  },
  {
   "cell_type": "code",
   "execution_count": 95,
   "metadata": {},
   "outputs": [
    {
     "data": {
      "text/plain": [
       "array([-3.45678842e-05,  1.44261823e-06])"
      ]
     },
     "execution_count": 95,
     "metadata": {},
     "output_type": "execute_result"
    }
   ],
   "source": [
    "get_param_val(P,2,inv(K))"
   ]
  },
  {
   "cell_type": "code",
   "execution_count": null,
   "metadata": {},
   "outputs": [],
   "source": []
  }
 ],
 "metadata": {
  "kernelspec": {
   "display_name": "base",
   "language": "python",
   "name": "python3"
  },
  "language_info": {
   "codemirror_mode": {
    "name": "ipython",
    "version": 3
   },
   "file_extension": ".py",
   "mimetype": "text/x-python",
   "name": "python",
   "nbconvert_exporter": "python",
   "pygments_lexer": "ipython3",
   "version": "3.8.8"
  },
  "orig_nbformat": 4,
  "vscode": {
   "interpreter": {
    "hash": "0a9832322fafd2730dc149af687337c0a09b45fcc0b3b65c4fba6625a2f98152"
   }
  }
 },
 "nbformat": 4,
 "nbformat_minor": 2
}
